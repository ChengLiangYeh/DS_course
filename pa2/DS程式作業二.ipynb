{
 "cells": [
  {
   "cell_type": "code",
   "execution_count": 1,
   "metadata": {},
   "outputs": [],
   "source": [
    "import numpy as np"
   ]
  },
  {
   "cell_type": "code",
   "execution_count": 2,
   "metadata": {},
   "outputs": [],
   "source": [
    "def pattern_match(text, pattern):\n",
    "    #DPchart的XY軸要多一位 => 存空的pattern對上空的text的情況\n",
    "    DPchart = np.zeros( ( len(text)+1, len(pattern)+1 ) )\n",
    "    DPchart[0][0] = True\n",
    "    #test\n",
    "    #print(np.shape(DPchart))\n",
    "    #print(DPchart)\n",
    "    ##我是分隔線##\n",
    "    #防止*出問題，設計得很有巧思 => 多一個for啦幹!!!! time complexity>O(tp)了?! => 並沒有，還是=O(tp)\n",
    "    for j in range(1,len(pattern)+1):\n",
    "        if pattern[j-1] == '*':\n",
    "            DPchart[0][j] = DPchart[0][j-2]\n",
    "    ##我是分隔線##\n",
    "    #index特別注意,DPchart的(1,1),是text[0]對上pattern[0]\n",
    "    for i in range(1,len(text)+1):\n",
    "        #print(i)\n",
    "        for j in range(1,len(pattern)+1):\n",
    "            #print(j)\n",
    "            if text[i-1] == pattern[j-1] or pattern[j-1] == '.':\n",
    "                DPchart[i][j] = DPchart[i-1][j-1]\n",
    "            elif pattern[j-1] == '*':\n",
    "                DPchart[i][j] = DPchart[i][j-2]   #*出現0次的情況\n",
    "                if text[i-1] == pattern[j-2] or pattern[j-2] == '.':  #*出現大於0次的情況 => 等於是text中可以少看一位 => DPchart i index 找上一格\n",
    "                    DPchart[i][j] = DPchart[i-1][j] or DPchart[i][j]  #判斷以上情形哪一種成立 => 取True (這種寫法要記住!)\n",
    "            else:\n",
    "                DPchart[i][j] = False\n",
    "    #\n",
    "    shape = np.shape(DPchart)\n",
    "    #print('shape=',shape)\n",
    "    print(DPchart)\n",
    "    if DPchart[shape[0]-1][shape[1]-1] == 1:\n",
    "        return True\n",
    "    else:\n",
    "        return False"
   ]
  },
  {
   "cell_type": "code",
   "execution_count": 3,
   "metadata": {},
   "outputs": [
    {
     "name": "stdout",
     "output_type": "stream",
     "text": [
      "[[1. 0. 0. 0. 0.]\n",
      " [0. 1. 0. 1. 0.]]\n",
      "False\n"
     ]
    }
   ],
   "source": [
    "text = 'a'\n",
    "pattern = 'ab*a'\n",
    "Result = pattern_match(text, pattern)\n",
    "print(Result)"
   ]
  },
  {
   "cell_type": "code",
   "execution_count": null,
   "metadata": {},
   "outputs": [],
   "source": []
  },
  {
   "cell_type": "code",
   "execution_count": null,
   "metadata": {},
   "outputs": [],
   "source": []
  },
  {
   "cell_type": "code",
   "execution_count": null,
   "metadata": {},
   "outputs": [],
   "source": []
  },
  {
   "cell_type": "code",
   "execution_count": null,
   "metadata": {},
   "outputs": [],
   "source": []
  }
 ],
 "metadata": {
  "kernelspec": {
   "display_name": "Python 3",
   "language": "python",
   "name": "python3"
  },
  "language_info": {
   "codemirror_mode": {
    "name": "ipython",
    "version": 3
   },
   "file_extension": ".py",
   "mimetype": "text/x-python",
   "name": "python",
   "nbconvert_exporter": "python",
   "pygments_lexer": "ipython3",
   "version": "3.7.4"
  }
 },
 "nbformat": 4,
 "nbformat_minor": 2
}
